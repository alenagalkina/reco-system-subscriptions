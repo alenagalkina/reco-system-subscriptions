{
 "cells": [
  {
   "cell_type": "code",
   "execution_count": 1,
   "metadata": {},
   "outputs": [
    {
     "name": "stdout",
     "output_type": "stream",
     "text": [
      "%pylab is deprecated, use %matplotlib inline and import the required libraries.\n",
      "Populating the interactive namespace from numpy and matplotlib\n"
     ]
    }
   ],
   "source": [
    "import warnings\n",
    "warnings.simplefilter('ignore')\n",
    "\n",
    "import pandas as pd\n",
    "import numpy as np\n",
    "from tqdm import tqdm_notebook\n",
    "from sklearn.metrics import mean_squared_error\n",
    "from sklearn.metrics.pairwise import cosine_similarity\n",
    "from sklearn.base import BaseEstimator\n",
    "\n",
    "%pylab inline"
   ]
  },
  {
   "cell_type": "markdown",
   "metadata": {},
   "source": [
    "### 1.Выберите любой понравившийся вам набор данных"
   ]
  },
  {
   "cell_type": "code",
   "execution_count": 2,
   "metadata": {},
   "outputs": [
    {
     "data": {
      "text/html": [
       "<div>\n",
       "<style scoped>\n",
       "    .dataframe tbody tr th:only-of-type {\n",
       "        vertical-align: middle;\n",
       "    }\n",
       "\n",
       "    .dataframe tbody tr th {\n",
       "        vertical-align: top;\n",
       "    }\n",
       "\n",
       "    .dataframe thead th {\n",
       "        text-align: right;\n",
       "    }\n",
       "</style>\n",
       "<table border=\"1\" class=\"dataframe\">\n",
       "  <thead>\n",
       "    <tr style=\"text-align: right;\">\n",
       "      <th></th>\n",
       "      <th>userId</th>\n",
       "      <th>itemId</th>\n",
       "      <th>rating</th>\n",
       "      <th>timestamp</th>\n",
       "    </tr>\n",
       "  </thead>\n",
       "  <tbody>\n",
       "    <tr>\n",
       "      <th>0</th>\n",
       "      <td>B00005N7P0</td>\n",
       "      <td>AH2IFH762VY5U</td>\n",
       "      <td>5.0</td>\n",
       "      <td>1005177600</td>\n",
       "    </tr>\n",
       "    <tr>\n",
       "      <th>1</th>\n",
       "      <td>B00005N7P0</td>\n",
       "      <td>AOSFI0JEYU4XM</td>\n",
       "      <td>5.0</td>\n",
       "      <td>1004486400</td>\n",
       "    </tr>\n",
       "    <tr>\n",
       "      <th>2</th>\n",
       "      <td>B00005N7OJ</td>\n",
       "      <td>A3JPFWKS83R49V</td>\n",
       "      <td>3.0</td>\n",
       "      <td>1174694400</td>\n",
       "    </tr>\n",
       "    <tr>\n",
       "      <th>3</th>\n",
       "      <td>B00005N7OJ</td>\n",
       "      <td>A19FKU6JZQ2ECJ</td>\n",
       "      <td>5.0</td>\n",
       "      <td>1163116800</td>\n",
       "    </tr>\n",
       "    <tr>\n",
       "      <th>4</th>\n",
       "      <td>B00005N7P0</td>\n",
       "      <td>A25MDGOMZ2GALN</td>\n",
       "      <td>5.0</td>\n",
       "      <td>1405296000</td>\n",
       "    </tr>\n",
       "  </tbody>\n",
       "</table>\n",
       "</div>"
      ],
      "text/plain": [
       "       userId          itemId  rating   timestamp\n",
       "0  B00005N7P0   AH2IFH762VY5U     5.0  1005177600\n",
       "1  B00005N7P0   AOSFI0JEYU4XM     5.0  1004486400\n",
       "2  B00005N7OJ  A3JPFWKS83R49V     3.0  1174694400\n",
       "3  B00005N7OJ  A19FKU6JZQ2ECJ     5.0  1163116800\n",
       "4  B00005N7P0  A25MDGOMZ2GALN     5.0  1405296000"
      ]
     },
     "execution_count": 2,
     "metadata": {},
     "output_type": "execute_result"
    }
   ],
   "source": [
    "ratings = pd.read_csv(\".\\data\\Magazine_Subscriptions.csv\", header=None)\n",
    "ratings.columns = [\"userId\", \"itemId\", \"rating\", \"timestamp\"]\n",
    "ratings.head()"
   ]
  },
  {
   "cell_type": "code",
   "execution_count": 3,
   "metadata": {},
   "outputs": [
    {
     "data": {
      "text/plain": [
       "89689"
      ]
     },
     "execution_count": 3,
     "metadata": {},
     "output_type": "execute_result"
    }
   ],
   "source": [
    "ratings.shape[0]"
   ]
  },
  {
   "cell_type": "markdown",
   "metadata": {},
   "source": [
    "### 2.Проведите базовый EDA - распределения рейтингов, количество уникальных товаров и т.д."
   ]
  },
  {
   "cell_type": "code",
   "execution_count": 4,
   "metadata": {},
   "outputs": [
    {
     "name": "stdout",
     "output_type": "stream",
     "text": [
      "<class 'pandas.core.frame.DataFrame'>\n",
      "RangeIndex: 89689 entries, 0 to 89688\n",
      "Data columns (total 4 columns):\n",
      " #   Column     Non-Null Count  Dtype  \n",
      "---  ------     --------------  -----  \n",
      " 0   userId     89689 non-null  object \n",
      " 1   itemId     89689 non-null  object \n",
      " 2   rating     89689 non-null  float64\n",
      " 3   timestamp  89689 non-null  int64  \n",
      "dtypes: float64(1), int64(1), object(2)\n",
      "memory usage: 2.7+ MB\n"
     ]
    }
   ],
   "source": [
    "ratings.info()"
   ]
  },
  {
   "cell_type": "code",
   "execution_count": 6,
   "metadata": {},
   "outputs": [
    {
     "data": {
      "text/plain": [
       "5.0    53790\n",
       "4.0    12676\n",
       "1.0    11029\n",
       "3.0     6971\n",
       "2.0     5223\n",
       "Name: rating, dtype: int64"
      ]
     },
     "execution_count": 6,
     "metadata": {},
     "output_type": "execute_result"
    }
   ],
   "source": [
    "# распределение оценок\n",
    "ratings.rating.value_counts()"
   ]
  },
  {
   "cell_type": "code",
   "execution_count": 7,
   "metadata": {},
   "outputs": [
    {
     "data": {
      "text/plain": [
       "<AxesSubplot: >"
      ]
     },
     "execution_count": 7,
     "metadata": {},
     "output_type": "execute_result"
    },
    {
     "data": {
      "image/png": "[encoded data removed]",
      "text/plain": [
       "<Figure size 640x480 with 1 Axes>"
      ]
     },
     "metadata": {},
     "output_type": "display_data"
    }
   ],
   "source": [
    "ratings.rating.hist()"
   ]
  },
  {
   "cell_type": "code",
   "execution_count": 8,
   "metadata": {},
   "outputs": [
    {
     "data": {
      "text/plain": [
       "A3JPFWKS83R49V    55\n",
       "A2OTUWUSH49XIN    26\n",
       "AEMZRE6QYVQBS     25\n",
       "A3GA09FYFKL4EY    24\n",
       "A30H2335OM7RD6    22\n",
       "                  ..\n",
       "A1GOGNVAM9CWRK     1\n",
       "A5RXVI67FLKMD      1\n",
       "AGXYE9WZZ4DUG      1\n",
       "ATYDFYTB5URNC      1\n",
       "A1N6M7HRWMDE3D     1\n",
       "Name: itemId, Length: 72098, dtype: int64"
      ]
     },
     "execution_count": 8,
     "metadata": {},
     "output_type": "execute_result"
    }
   ],
   "source": [
    "# количество товаров\n",
    "ratings.itemId.value_counts()"
   ]
  },
  {
   "cell_type": "code",
   "execution_count": 9,
   "metadata": {},
   "outputs": [
    {
     "data": {
      "text/plain": [
       "B00005NIOH    1718\n",
       "B00005N7Q1    1537\n",
       "B00005N7SC    1480\n",
       "B00007B10Y    1409\n",
       "B001LF4EVO    1339\n",
       "              ... \n",
       "B00VXCWV10       1\n",
       "B0015RA2NC       1\n",
       "B00BLB7P2I       1\n",
       "B00VVGRBL8       1\n",
       "B000063XJY       1\n",
       "Name: userId, Length: 2428, dtype: int64"
      ]
     },
     "execution_count": 9,
     "metadata": {},
     "output_type": "execute_result"
    }
   ],
   "source": [
    "# количество пользователей\n",
    "ratings.userId.value_counts()"
   ]
  },
  {
   "cell_type": "markdown",
   "metadata": {},
   "source": [
    "### 3.Отложите часть данных для тестирования."
   ]
  },
  {
   "cell_type": "code",
   "execution_count": 10,
   "metadata": {},
   "outputs": [],
   "source": [
    "def train_test_split_special(\n",
    "    X,\n",
    "    ratio=0.2,\n",
    "    user_col=\"userId\",\n",
    "    item_col=\"itemId\",\n",
    "    rating_col=\"rating\",\n",
    "    time_col=\"timestamp\",\n",
    "):\n",
    "    # сортируем оценки по времени\n",
    "    X.sort_values(by=[time_col], inplace=True)\n",
    "    # список всех юзеров\n",
    "    userIds = X[user_col].unique()\n",
    "    X_train_data = []\n",
    "    X_test_data = []\n",
    "    y_train = []\n",
    "    y_test = []\n",
    "    for userId in tqdm_notebook(userIds):\n",
    "        curUser = X[X[user_col] == userId]\n",
    "        # определяем позицию, по которой делим выборку и размещаем данные по массивам\n",
    "        idx = int(curUser.shape[0] * (1 - ratio))\n",
    "        X_train_data.append(curUser[[user_col, item_col]].iloc[:idx, :].values)\n",
    "        X_test_data.append(curUser[[user_col, item_col]].iloc[idx:, :].values)\n",
    "        y_train.append(curUser[rating_col].values[:idx])\n",
    "        y_test.append(curUser[rating_col].values[idx:])\n",
    "    # cтекуем данные по каждому пользователю в общие массивы\n",
    "    X_train = pd.DataFrame(np.vstack(X_train_data), columns=[user_col, item_col])\n",
    "    X_test = pd.DataFrame(np.vstack(X_test_data), columns=[user_col, item_col])\n",
    "    y_train = np.hstack(y_train)\n",
    "    y_test = np.hstack(y_test)\n",
    "    return X_train, X_test, y_train, y_test"
   ]
  },
  {
   "cell_type": "code",
   "execution_count": 11,
   "metadata": {},
   "outputs": [
    {
     "data": {
      "application/vnd.jupyter.widget-view+json": {
       "model_id": "772e831c58b44eb6af4bf24467b8b9a6",
       "version_major": 2,
       "version_minor": 0
      },
      "text/plain": [
       "  0%|          | 0/2428 [00:00<?, ?it/s]"
      ]
     },
     "metadata": {},
     "output_type": "display_data"
    }
   ],
   "source": [
    "X_train, X_test, y_train, y_test = train_test_split_special(ratings)"
   ]
  },
  {
   "cell_type": "code",
   "execution_count": 12,
   "metadata": {},
   "outputs": [
    {
     "data": {
      "text/plain": [
       "((70604, 2), 70604, (19085, 2), 19085)"
      ]
     },
     "execution_count": 12,
     "metadata": {},
     "output_type": "execute_result"
    }
   ],
   "source": [
    "X_train.shape, len(y_train), X_test.shape, len(y_test)"
   ]
  },
  {
   "cell_type": "code",
   "execution_count": 13,
   "metadata": {},
   "outputs": [
    {
     "data": {
      "text/plain": [
       "B00005NIOH    1374\n",
       "B00005N7Q1    1229\n",
       "B00005N7SC    1184\n",
       "B00007B10Y    1127\n",
       "B001LF4EVO    1071\n",
       "              ... \n",
       "B00KAJOCVO       1\n",
       "B01705ZPXY       1\n",
       "B00006KMQ8       1\n",
       "B000067FOL       1\n",
       "B00R1Y13MC       1\n",
       "Name: userId, Length: 2015, dtype: int64"
      ]
     },
     "execution_count": 13,
     "metadata": {},
     "output_type": "execute_result"
    }
   ],
   "source": [
    "X_train.userId.value_counts()"
   ]
  },
  {
   "cell_type": "code",
   "execution_count": 14,
   "metadata": {},
   "outputs": [
    {
     "data": {
      "text/plain": [
       "A3JPFWKS83R49V    54\n",
       "AEMZRE6QYVQBS     25\n",
       "A1RPTVW5VEOSI     21\n",
       "AKMEY1BSHSDG7     21\n",
       "A30H2335OM7RD6    20\n",
       "                  ..\n",
       "A22U9WQAJKTR6X     1\n",
       "A32GRPMAZJ74EZ     1\n",
       "A2Y3WTME3GN12O     1\n",
       "A1EYJ7WJMPH1Y8     1\n",
       "A2W7LPBCJO1L7      1\n",
       "Name: itemId, Length: 57554, dtype: int64"
      ]
     },
     "execution_count": 14,
     "metadata": {},
     "output_type": "execute_result"
    }
   ],
   "source": [
    "X_train.itemId.value_counts()"
   ]
  },
  {
   "cell_type": "markdown",
   "metadata": {},
   "source": [
    "### 4.На основании вашего датасета постройте рекомендательную систему"
   ]
  },
  {
   "cell_type": "markdown",
   "metadata": {},
   "source": [
    "# User-based model\n",
    "\n",
    "**User-based model** является моделью коллабораивной фильтрации, основная идея которой **похожим пользователям обычно нравятся похожие объекты**\n",
    "\n",
    "Идею алгоритма можно сформулировать следующим образом:\n",
    "\n",
    "    1) Найти, насколько другие пользователи в базе данных похожи на данного пользователя.\n",
    "    2) По оценкам других пользователей предсказать, какую оценку даст данный пользователь данному продукту, учитывая с большим весом тех пользователей, которые больше похожи на данный.\n",
    "\n",
    "\n",
    "Определять схожесть $2$ пользователей будем с помощью корреляции Пирсона между векторами уже поставленными оценками. Отметим, что для двух различных пользователей оценка может иметь различный вес, так для одного средний фильм имеет рейтинг $2$, а для другого $4$. Такие пользователи похожи, но корреляция скажет, что они различны. Чтобы устранить это, давайте из всех оценок пользователя вычтем его среднюю оценку.\n",
    "\n",
    "Таким образом итоговая формула схожести двух пользователей вычисляется по формуле:\n",
    "$$\n",
    "    \\textit{sim(u, v)} = \\frac\n",
    "    {\\sum_i{\\big((r_{ui} - \\overline{r_u}) \\times (r_{vi} - \\overline{r_v})\\big)}}\n",
    "    {\\sqrt{\\sum_i{(r_{ui} - \\overline{r_u})^2}} \\times \\sqrt{\\sum_i{(r_{vi} - \\overline{r_v})^2}}}\n",
    "$$\n",
    "\n",
    "Интуитивно понятно, что предпологаемый рейтинг для пользователя можно оценить как средний рейтинг между схожими пользователями, но, благодаря введению понятия схожести, можно улучшить эту оценку, введя взвешенные веса и учитывая всех пользователей, которые посмотрели этот фильм.\n",
    "\n",
    "Итак, приближаем новый рейтинг как средний рейтинг данного пользователя плюс отклонения от среднего рейтингов других пользователей, взвешенных весам (т. е. похожестью):\n",
    "$$\n",
    "    r_{ui} = \\overline{r_u} + \\frac\n",
    "    {\\sum_{v \\in User_i}\\big(\\textit{sim(u, v)} \\times (r_{vi} - \\overline{r_v})\\big)}\n",
    "    {\\sum_{v \\in User_i}\\textit{sim(u, v)}}\n",
    "$$\n",
    "\n"
   ]
  },
  {
   "cell_type": "code",
   "execution_count": 15,
   "metadata": {},
   "outputs": [],
   "source": [
    "class UserBased(BaseEstimator):\n",
    "    def fit(self, X, y, user_col=\"userId\", item_col=\"itemId\"):\n",
    "        X = X.copy()\n",
    "        # сохраним текущих пользователей и имеющиеся предметы\n",
    "        self.users = X[user_col].unique()\n",
    "        self.items = X[item_col].unique()\n",
    "\n",
    "        X[\"y\"] = y\n",
    "\n",
    "        # рассчитаем среднее значение рейтинга для пользователя\n",
    "        self.mean_y_user = X.groupby(user_col)[\"y\"].mean()\n",
    "\n",
    "        # вычитаем среднюю оценку пользователя\n",
    "        X[\"y\"] -= X[user_col].apply(lambda x: self.mean_y_user[x])\n",
    "\n",
    "        # создаём векторы для каждого пользователя из предметов\n",
    "        # для неизвестных объектов ставим среднюю оценку\n",
    "        self.user_ratings = pd.pivot_table(\n",
    "            X,\n",
    "            values=\"y\",\n",
    "            index=user_col,\n",
    "            columns=item_col,\n",
    "            fill_value=mean(self.mean_y_user),\n",
    "        )  #\n",
    "\n",
    "        # считаем попарную схожесть между юзерами\n",
    "        self.user_sim = cosine_similarity(self.user_ratings)\n",
    "\n",
    "        # также сделаем словарь - {значение user_col: index в user_ratings}\n",
    "        self.user_pos = dict()\n",
    "        for user in self.users:\n",
    "            self.user_pos[user] = np.argwhere(self.user_ratings.index.values == user)[\n",
    "                0\n",
    "            ][0]\n",
    "        return self\n",
    "\n",
    "    def predict_rating(self, pr_user, pr_item):\n",
    "        # если в обучающей выборке нет такого предмета\n",
    "        # или пользователя, то вернём среднее\n",
    "        if not pr_item in self.items or not pr_user in self.users:\n",
    "            return mean(self.mean_y_user)\n",
    "\n",
    "        # считаем числитель и знаменатель дроби из формулы предсказания\n",
    "        numerator = self.user_sim[self.user_pos[pr_user]].dot(\n",
    "            self.user_ratings.loc[:, pr_item]\n",
    "        )\n",
    "\n",
    "        # вычитаем 1, так как схожесть пользователя с самим собой равна 1,\n",
    "        # но модель не должна это учитывать\n",
    "        denominator = self.user_sim[self.user_pos[pr_user]].sum() - 1\n",
    "\n",
    "        return self.mean_y_user[pr_user] + numerator / denominator\n",
    "\n",
    "    def predict(self, X, user_col=\"userId\", item_col=\"itemId\"):\n",
    "        y = X[[user_col, item_col]].apply(\n",
    "            lambda row: self.predict_rating(row[0], row[1]), axis=1\n",
    "        )\n",
    "        return y"
   ]
  },
  {
   "cell_type": "markdown",
   "metadata": {},
   "source": [
    "# Item-based model\n",
    "Ищем похожие товары:\n",
    "\n",
    "\n",
    "    1) Найти, насколько другие продукты в базе данных похожи на данный продукт.\n",
    "    \n",
    "    2) По оценкам других продуктов предсказать, какую оценку даст данный пользователь данному продукту, учитывая с большим весом те продукты, которые больше похожи на данный.\n",
    "\n",
    "\n",
    "При вычислении $r_{ui}$ мы посмотрим на все фильмы пользователя $u$, оценим их схожесть с фильмом $i$ и посчитаем взвешенную сумму:\n",
    "$$\n",
    "    r_{ui} = \\overline{r_i} + \\frac\n",
    "    {\\sum_{j \\in Item_u}\\big(\\textit{sim(i, j)} \\times (r_{uj} - \\overline{r_j})\\big)}\n",
    "    {\\sum_{j \\in Item_u}\\textit{|sim(i, j)|}}\n",
    "$$\n",
    "\n",
    "Оценивать же схожесть двух фильмов будем с помощью корреляции Пирсона:\n",
    "$$\n",
    "    \\textit{sim(i, j)} = \\frac\n",
    "    {\\sum_u{\\big((r_{ui} - \\overline{r_i}) \\times (r_{uj} - \\overline{r_j})\\big)}}\n",
    "    {\\sqrt{\\sum_u{(r_{ui} - \\overline{r_i})^2}} \\times \\sqrt{\\sum_u{(r_{uj} - \\overline{r_j})^2}}}\n",
    "$$"
   ]
  },
  {
   "cell_type": "code",
   "execution_count": 16,
   "metadata": {},
   "outputs": [],
   "source": [
    "class ItemBased(BaseEstimator):\n",
    "    def fit(self, X, y, user_col=\"userId\", item_col=\"itemId\"):\n",
    "        X = X.copy()\n",
    "        # сохраним текущих пользователей и имеющиеся предметы\n",
    "        self.users = X[user_col].unique()\n",
    "        self.items = X[item_col].unique()\n",
    "\n",
    "        X[\"y\"] = y\n",
    "        # рассчитаем среднее значение рейтинга для предмета\n",
    "        self.mean_y_item = X.groupby(item_col)[\"y\"].mean()\n",
    "\n",
    "        # вычитаем среднюю оценку предмета\n",
    "        X[\"y\"] -= X[item_col].apply(lambda x: self.mean_y_item[x])\n",
    "\n",
    "        # создаём векторы для каждого фильма с оценками пользователя\n",
    "        # если пользователь не поставил оценку, то ставим среднюю оценку\n",
    "        self.item_ratings = pd.pivot_table(\n",
    "            X,\n",
    "            values=\"y\",\n",
    "            index=item_col,\n",
    "            columns=user_col,\n",
    "            fill_value=mean(self.mean_y_item),\n",
    "        )\n",
    "\n",
    "        # считаем попарную схожесть между фильмами\n",
    "        self.item_sim = cosine_similarity(self.item_ratings)\n",
    "\n",
    "        # также сделаем словарь {значение item_col: index в item_ratings}\n",
    "        self.item_pos = dict()\n",
    "        for item in self.items:\n",
    "            self.item_pos[item] = np.argwhere(self.item_ratings.index.values == item)[\n",
    "                0\n",
    "            ][0]\n",
    "        return self\n",
    "\n",
    "    def predict_rating(self, pr_user, pr_item):\n",
    "        # если в обучающей выборке нет такого предмета\n",
    "        # или пользователя, то вернём среднее\n",
    "        if not pr_item in self.items or not pr_user in self.users:\n",
    "            return mean(self.mean_y_item)\n",
    "\n",
    "        # считаем числитель и знаменатель дроби из формулы предсказания\n",
    "        numerator = self.item_sim[self.item_pos[pr_item]].dot(\n",
    "            self.item_ratings.loc[:, pr_user]\n",
    "        )\n",
    "        # вычитаем 1, так как схожесть предмета с самим собой равна 1,\n",
    "        # но модель не должна это учитывать\n",
    "        denominator = self.item_sim[self.item_pos[pr_item]].sum() - 1\n",
    "\n",
    "        return self.mean_y_item[pr_item] + numerator / denominator\n",
    "\n",
    "    def predict(self, X, user_col=\"userId\", item_col=\"itemId\"):\n",
    "        y = X[[user_col, item_col]].apply(\n",
    "            lambda row: self.predict_rating(row[0], row[1]), axis=1\n",
    "        )\n",
    "        return y"
   ]
  },
  {
   "cell_type": "markdown",
   "metadata": {},
   "source": [
    "### 5.Оцените качество полученных рекомендаций, при помощи подходящих метрик"
   ]
  },
  {
   "cell_type": "code",
   "execution_count": 17,
   "metadata": {},
   "outputs": [],
   "source": [
    "rmse = lambda y_true, y_pred: np.sqrt(mean_squared_error(y_true, y_pred))"
   ]
  },
  {
   "cell_type": "markdown",
   "metadata": {},
   "source": [
    "### UserBased"
   ]
  },
  {
   "cell_type": "code",
   "execution_count": 18,
   "metadata": {},
   "outputs": [],
   "source": [
    "ub = UserBased().fit(X_train, y_train)\n",
    "y_predicted = ub.predict(X_test)"
   ]
  },
  {
   "cell_type": "code",
   "execution_count": 19,
   "metadata": {},
   "outputs": [],
   "source": [
    "y_predicted[y_predicted < 1] = 1\n",
    "y_predicted[y_predicted > 5] = 5"
   ]
  },
  {
   "cell_type": "code",
   "execution_count": 20,
   "metadata": {},
   "outputs": [
    {
     "name": "stdout",
     "output_type": "stream",
     "text": [
      "rmse = 1.5238321486900877\n"
     ]
    }
   ],
   "source": [
    "print(\"rmse = {}\".format(rmse(y_test, y_predicted)))"
   ]
  },
  {
   "cell_type": "markdown",
   "metadata": {},
   "source": [
    "### ItemBased"
   ]
  },
  {
   "cell_type": "code",
   "execution_count": 21,
   "metadata": {},
   "outputs": [],
   "source": [
    "ib = ItemBased().fit(X_train, y_train)\n",
    "y_predicted1 = ib.predict(X_test)"
   ]
  },
  {
   "cell_type": "code",
   "execution_count": null,
   "metadata": {},
   "outputs": [],
   "source": [
    "y_predicted1[y_predicted1 < 1] = 1\n",
    "y_predicted1[y_predicted1 > 5] = 5"
   ]
  },
  {
   "cell_type": "code",
   "execution_count": null,
   "metadata": {},
   "outputs": [
    {
     "name": "stdout",
     "output_type": "stream",
     "text": [
      "rmse = 1.5172675001156442\n"
     ]
    }
   ],
   "source": [
    "print(\"rmse = {}\".format(rmse(y_test, y_predicted1)))"
   ]
  },
  {
   "cell_type": "markdown",
   "metadata": {},
   "source": [
    "### Всем пятерки"
   ]
  },
  {
   "cell_type": "code",
   "execution_count": null,
   "metadata": {},
   "outputs": [],
   "source": [
    "y_predicted2 = np.zeros(len(y_predicted1)) + 5"
   ]
  },
  {
   "cell_type": "code",
   "execution_count": null,
   "metadata": {},
   "outputs": [
    {
     "data": {
      "text/plain": [
       "1.8046602264357756"
      ]
     },
     "execution_count": 30,
     "metadata": {},
     "output_type": "execute_result"
    }
   ],
   "source": [
    "rmse(y_test, y_predicted2)"
   ]
  },
  {
   "cell_type": "code",
   "execution_count": null,
   "metadata": {},
   "outputs": [],
   "source": []
  }
 ],
 "metadata": {
  "kernelspec": {
   "display_name": "Python 3",
   "language": "python",
   "name": "python3"
  },
  "language_info": {
   "codemirror_mode": {
    "name": "ipython",
    "version": 3
   },
   "file_extension": ".py",
   "mimetype": "text/x-python",
   "name": "python",
   "nbconvert_exporter": "python",
   "pygments_lexer": "ipython3",
   "version": "3.10.9"
  }
 },
 "nbformat": 4,
 "nbformat_minor": 1
}
